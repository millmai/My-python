{
 "cells": [
  {
   "cell_type": "code",
   "execution_count": 12,
   "metadata": {},
   "outputs": [
    {
     "name": "stdout",
     "output_type": "stream",
     "text": [
      "จำนวนคะแนนรวม:  44\n"
     ]
    }
   ],
   "source": [
    "def sum_cal(hm,aff,fi):\n",
    "    total = hm+aff+fi\n",
    "    return total\n",
    "def get_valid_score(prompt,max_score):\n",
    "    while True:\n",
    "        score = int(input(prompt))\n",
    "        if score <= max_score:\n",
    "            return score\n",
    "        else:\n",
    "            print(f\"จำนวนคะแนนไม่เกิด {max_score}\")\n",
    "\n",
    "hm = get_valid_score(\"จำนวนคะแนนเก็บ: \",20)\n",
    "aff = get_valid_score(\"จำนวนคะแนนจิตพิสัย: \",10)\n",
    "fi = get_valid_score(\"จำนวนคะแนนสอบ: \",20)\n",
    "\n",
    "total_score = sum_cal(hm,aff,fi)\n",
    "\n",
    "print(f\"จำนวนคะแนนรวม:  {total_score}\")"
   ]
  }
 ],
 "metadata": {
  "kernelspec": {
   "display_name": "Python 3",
   "language": "python",
   "name": "python3"
  },
  "language_info": {
   "codemirror_mode": {
    "name": "ipython",
    "version": 3
   },
   "file_extension": ".py",
   "mimetype": "text/x-python",
   "name": "python",
   "nbconvert_exporter": "python",
   "pygments_lexer": "ipython3",
   "version": "3.12.4"
  }
 },
 "nbformat": 4,
 "nbformat_minor": 2
}
