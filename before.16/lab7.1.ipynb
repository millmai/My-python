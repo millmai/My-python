{
 "cells": [
  {
   "cell_type": "code",
   "execution_count": 6,
   "metadata": {},
   "outputs": [
    {
     "name": "stdout",
     "output_type": "stream",
     "text": [
      "ชื่อพนักงาน: ไหม \n",
      "เงินเดือน: 50000\n",
      "ชั่วโมงล่วงเวลา: 24\n",
      "เงินเดือนรวมทั้งสิ้น: 52400 บาท\n"
     ]
    }
   ],
   "source": [
    "name = input(\"ชื่อพนักงาน: \")\n",
    "salary = int(input(\"เงินเดือน: \"))\n",
    "hours = int(input(\"ชั่วโมงล่วงเวลา: \"))\n",
    "\n",
    "def calculate_salary(name,salary,hours):\n",
    "    rate = 100\n",
    "    if hours > 40:\n",
    "        overtime_pay = (40 * rate) + ((hours - 40) * rate * 1.5)\n",
    "    else:\n",
    "        overtime_pay = hours * rate\n",
    "\n",
    "    total = salary + overtime_pay\n",
    "    return total\n",
    "\n",
    "total= calculate_salary(name,salary,hours)\n",
    "\n",
    "print(f\"ชื่อพนักงาน: {name} \")\n",
    "print(f\"เงินเดือน: {salary}\")\n",
    "print(f\"ชั่วโมงล่วงเวลา: {hours}\")\n",
    "print(f\"เงินเดือนรวมทั้งสิ้น: {total} บาท\")\n"
   ]
  }
 ],
 "metadata": {
  "kernelspec": {
   "display_name": "Python 3",
   "language": "python",
   "name": "python3"
  },
  "language_info": {
   "codemirror_mode": {
    "name": "ipython",
    "version": 3
   },
   "file_extension": ".py",
   "mimetype": "text/x-python",
   "name": "python",
   "nbconvert_exporter": "python",
   "pygments_lexer": "ipython3",
   "version": "3.12.4"
  }
 },
 "nbformat": 4,
 "nbformat_minor": 2
}
